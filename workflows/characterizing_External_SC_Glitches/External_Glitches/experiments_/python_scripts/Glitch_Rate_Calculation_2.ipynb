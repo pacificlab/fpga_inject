{
 "cells": [
  {
   "cell_type": "code",
   "execution_count": 1,
   "id": "60c2eda6-2aef-459c-bccd-1cb1a3673255",
   "metadata": {},
   "outputs": [
    {
     "name": "stdout",
     "output_type": "stream",
     "text": [
      "Percentage of Success AES Operations: 100.00%\n",
      "Percentage of Success Glitches: 0.00%\n"
     ]
    }
   ],
   "source": [
    "def calculate_similarity(file_path, x_string):\n",
    "    \"\"\"\n",
    "    Calculate the percentage of identical responses in the input file to the given x_string.\n",
    "\n",
    "    Args:\n",
    "        file_path (str): Path to the input .txt file containing responses.\n",
    "        x_string (str): The reference string for comparison (in hexadecimal format).\n",
    "\n",
    "    Returns:\n",
    "        tuple: Percentage of identical responses and percentage of non-identical responses.\n",
    "    \"\"\"\n",
    "    try:\n",
    "        # Step 1: Read and process the file\n",
    "        with open(file_path, 'r') as file:\n",
    "            responses = file.readlines()\n",
    "\n",
    "        # Step 2: Clean and filter the responses\n",
    "        responses = [line.strip() for line in responses if line.strip()]  # Remove whitespace and empty lines\n",
    "\n",
    "        # Step 3: Calculate matches\n",
    "        total_responses = len(responses)\n",
    "        if total_responses == 0:\n",
    "            return 0.0, 100.0\n",
    "\n",
    "        matching_responses = sum(1 for response in responses if response == x_string)\n",
    "\n",
    "        # Step 4: Calculate percentages\n",
    "        matching_percentage = (matching_responses / total_responses) * 100\n",
    "        non_matching_percentage = 100 - matching_percentage\n",
    "\n",
    "        return matching_percentage, non_matching_percentage\n",
    "\n",
    "    except FileNotFoundError:\n",
    "        print(\"Error: File not found.\")\n",
    "        return None, None\n",
    "    except Exception as e:\n",
    "        print(f\"An error occurred: {e}\")\n",
    "        return None, None\n",
    "\n",
    "# Example usage\n",
    "if __name__ == \"__main__\":\n",
    "    # Input file and reference string\n",
    "    input_file = \"external_0_7v_1_5cycles.txt\"  # Replace with your .txt file path\n",
    "    reference_string = \"003ad77bb40d7a3660a89ecaf32466ef97\"  # Replace with your reference string\n",
    "\n",
    "    # Calculate and display the similarity percentages\n",
    "    matching_percentage, non_matching_percentage = calculate_similarity(input_file, reference_string)\n",
    "    if matching_percentage is not None:\n",
    "        print(f\"Percentage of Success AES Operations: {matching_percentage:.2f}%\")\n",
    "        print(f\"Percentage of Success Glitches: {non_matching_percentage:.2f}%\")\n"
   ]
  },
  {
   "cell_type": "code",
   "execution_count": null,
   "id": "1bf6dbc8-27c1-4691-a623-7db189417c53",
   "metadata": {},
   "outputs": [],
   "source": []
  }
 ],
 "metadata": {
  "kernelspec": {
   "display_name": "Python 3 (ipykernel)",
   "language": "python",
   "name": "python3"
  },
  "language_info": {
   "codemirror_mode": {
    "name": "ipython",
    "version": 3
   },
   "file_extension": ".py",
   "mimetype": "text/x-python",
   "name": "python",
   "nbconvert_exporter": "python",
   "pygments_lexer": "ipython3",
   "version": "3.10.12"
  }
 },
 "nbformat": 4,
 "nbformat_minor": 5
}
