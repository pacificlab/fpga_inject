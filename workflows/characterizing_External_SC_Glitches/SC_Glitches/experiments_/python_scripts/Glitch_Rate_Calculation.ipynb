{
 "cells": [
  {
   "cell_type": "code",
   "execution_count": 7,
   "id": "df1d812b-6651-482a-b61a-fb46873b5739",
   "metadata": {},
   "outputs": [
    {
     "name": "stdout",
     "output_type": "stream",
     "text": [
      "Percentage of Success Glitches: 2.00%\n"
     ]
    }
   ],
   "source": [
    "\n"
   ]
  },
  {
   "cell_type": "code",
   "execution_count": 2,
   "id": "ce80aca9-d82c-4cbb-9438-70321ca6a747",
   "metadata": {},
   "outputs": [
    {
     "name": "stdout",
     "output_type": "stream",
     "text": [
      "Percentage of Success AES Operations: 10.00%\n",
      "Percentage of Success Glitches: 90.00%\n"
     ]
    }
   ],
   "source": [
    "def calculate_similarity(file_path, x_string):\n",
    "    \"\"\"\n",
    "    Calculate the percentage of identical substrings in the input file to the given x_string.\n",
    "\n",
    "    Args:\n",
    "        file_path (str): Path to the input .txt file.\n",
    "        x_string (str): The reference string for comparison (34 hex characters).\n",
    "\n",
    "    Returns:\n",
    "        tuple: Percentage of identical substrings and percentage of non-identical substrings.\n",
    "    \"\"\"\n",
    "    try:\n",
    "        # Step 1: Read and process the file\n",
    "        with open(file_path, 'r') as file:\n",
    "            data = file.read().replace(\" \", \"\")  # Remove all spaces\n",
    "\n",
    "        # Step 2: Calculate substring matches\n",
    "        chunk_size = len(x_string)\n",
    "        total_chunks = len(data) // chunk_size\n",
    "        if total_chunks == 0:\n",
    "            return 0.0, 100.0\n",
    "\n",
    "        matching_chunks = 0\n",
    "        for i in range(total_chunks):\n",
    "            chunk = data[i * chunk_size: (i + 1) * chunk_size]\n",
    "            if chunk == x_string:\n",
    "                matching_chunks += 1\n",
    "\n",
    "        # Step 3: Calculate percentages\n",
    "        matching_percentage = (matching_chunks / total_chunks) * 100\n",
    "        non_matching_percentage = 100 - matching_percentage\n",
    "        return matching_percentage, non_matching_percentage\n",
    "\n",
    "    except FileNotFoundError:\n",
    "        print(\"Error: File not found.\")\n",
    "        return None, None\n",
    "    except Exception as e:\n",
    "        print(f\"An error occurred: {e}\")\n",
    "        return None, None\n",
    "\n",
    "# Example usage\n",
    "if __name__ == \"__main__\":\n",
    "    # Input file and reference string\n",
    "    input_file = \"responses.txt\"  # Replace with your .txt file path\n",
    "    reference_string = \"003ad77bb40d7a3660a89ecaf32466ef97\"\n",
    "    reference_string = reference_string.upper()\n",
    "\n",
    "    # Calculate and display the similarity percentages\n",
    "    matching_percentage, non_matching_percentage = calculate_similarity(input_file, reference_string)\n",
    "    if matching_percentage is not None:\n",
    "        print(f\"Percentage of Success AES Operations: {matching_percentage:.2f}%\")\n",
    "        print(f\"Percentage of Success Glitches: {non_matching_percentage:.2f}%\")\n"
   ]
  },
  {
   "cell_type": "code",
   "execution_count": null,
   "id": "39e9e383-862f-4002-8ef2-9c92f64593f4",
   "metadata": {},
   "outputs": [],
   "source": []
  }
 ],
 "metadata": {
  "kernelspec": {
   "display_name": "Python 3 (ipykernel)",
   "language": "python",
   "name": "python3"
  },
  "language_info": {
   "codemirror_mode": {
    "name": "ipython",
    "version": 3
   },
   "file_extension": ".py",
   "mimetype": "text/x-python",
   "name": "python",
   "nbconvert_exporter": "python",
   "pygments_lexer": "ipython3",
   "version": "3.10.12"
  }
 },
 "nbformat": 4,
 "nbformat_minor": 5
}
