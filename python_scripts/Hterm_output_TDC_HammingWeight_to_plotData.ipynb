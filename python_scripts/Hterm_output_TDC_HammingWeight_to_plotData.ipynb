{
 "cells": [
  {
   "cell_type": "markdown",
   "id": "3317b633",
   "metadata": {},
   "source": [
    "\n",
    "# Hterm Output TDC Hamming Weight to Plot Data\n",
    "\n",
    "This notebook processes space-separated binary data (captured from Hterm) and:\n",
    "- Groups them into 12-byte sequences\n",
    "- Reverses each byte's bits\n",
    "- Calculates the Hamming Weight (total number of 1s per group)\n",
    "- Outputs a summary per clock cycle\n",
    "\n",
    "The result is saved as a CSV file for plotting or further analysis.\n"
   ]
  },
  {
   "cell_type": "code",
   "execution_count": null,
   "id": "4af2df2b",
   "metadata": {},
   "outputs": [],
   "source": [
    "\n",
    "import csv\n",
    "from itertools import islice\n",
    "\n",
    "# Input/output file paths\n",
    "bitstream_file_path = 'bitstream_input.txt'       # Input file from Hterm with space-separated binary bytes\n",
    "output_csv_path = 'bitstream_processed_out.csv'   # Output CSV to write results\n"
   ]
  },
  {
   "cell_type": "code",
   "execution_count": null,
   "id": "838d8e51",
   "metadata": {},
   "outputs": [],
   "source": [
    "\n",
    "def batched(iterable, n):\n",
    "    \"\"\"\n",
    "    Custom batching function to split the input list into chunks of size n.\n",
    "    Uses islice to efficiently yield one batch at a time.\n",
    "    \"\"\"\n",
    "    it = iter(iterable)\n",
    "    while True:\n",
    "        batch = list(islice(it, n))\n",
    "        if not batch:\n",
    "            return\n",
    "        yield batch\n"
   ]
  },
  {
   "cell_type": "code",
   "execution_count": null,
   "id": "3360f5a7",
   "metadata": {},
   "outputs": [],
   "source": [
    "\n",
    "data = []            # This will hold dictionaries of processed results\n",
    "addressNo = 1        # Counter to track clock cycles (each group of 12 bytes is one clock cycle)\n",
    "\n",
    "# Read and process the bitstream input file\n",
    "with open(bitstream_file_path, 'r') as bitstream_file:\n",
    "    for line in bitstream_file:\n",
    "        # Split each line into a list of individual 8-bit binary byte strings\n",
    "        byte_list = line.strip().split()\n",
    "        \n",
    "        # Group every 12 bytes into a single \"clock cycle\" unit\n",
    "        for address in batched(byte_list, 12):\n",
    "            processedBytes = []   # Will store reversed versions of the 12 bytes\n",
    "            count = 0             # Counter for Hamming Weight (total number of '1's in this group)\n",
    "\n",
    "            for b in address:\n",
    "                reversed_b = b[::-1]              # Reverse bits in each byte (e.g., '10110000' → '00001101')\n",
    "                processedBytes.append(reversed_b) # Add to processed list\n",
    "                count += reversed_b.count('1')    # Count '1's in the reversed byte and add to total\n",
    "            \n",
    "            # Append the processed result to the data list\n",
    "            data.append({\n",
    "                'Clk Cycle': addressNo,\n",
    "                'Bytes': ' '.join(processedBytes),     # Concatenate all 12 reversed bytes into one string\n",
    "                'Hamming Weight': count                 # Total '1's in the 12 reversed bytes\n",
    "            })\n",
    "            addressNo += 1  # Move to the next clock cycle\n"
   ]
  },
  {
   "cell_type": "code",
   "execution_count": null,
   "id": "458d776b",
   "metadata": {},
   "outputs": [],
   "source": [
    "\n",
    "# Write the processed data to a CSV file\n",
    "with open(output_csv_path, 'w', newline='') as output_file:\n",
    "    # Define CSV column headers\n",
    "    writer = csv.DictWriter(output_file, fieldnames=['Clk Cycle', 'Bytes', 'Hamming Weight'])\n",
    "    writer.writeheader()      # Write the header to CSV\n",
    "    writer.writerows(data)    # Write each processed row\n",
    "\n",
    "print(f\"Saved output to {output_csv_path}\")\n"
   ]
  }
 ],
 "metadata": {},
 "nbformat": 4,
 "nbformat_minor": 5
}